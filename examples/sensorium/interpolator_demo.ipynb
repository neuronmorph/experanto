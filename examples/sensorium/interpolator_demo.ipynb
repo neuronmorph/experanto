{
 "cells": [
  {
   "cell_type": "code",
   "execution_count": 1,
   "metadata": {},
   "outputs": [],
   "source": [
    "%load_ext autoreload\n",
    "%autoreload 2"
   ]
  },
  {
   "cell_type": "code",
   "execution_count": 2,
   "metadata": {},
   "outputs": [],
   "source": [
    "import sys\n",
    "\n",
    "sys.path.append(\"..\")\n",
    "from experanto.interpolators import SequenceInterpolator, PhaseShiftedSequenceInterpolator\n",
    "\n",
    "import numpy as np"
   ]
  },
  {
   "cell_type": "markdown",
   "metadata": {},
   "source": [
    "# Test the sequence interpolator on eye tracking data"
   ]
  },
  {
   "cell_type": "code",
   "execution_count": null,
   "metadata": {},
   "outputs": [],
   "source": [
    "si = SequenceInterpolator(\n",
    "    \"data/test_upsampling_without_hamming_30.0Hz/dynamic27204-5-13-Video-021a75e56847d574b9acbcc06c675055_30hz/eye_tracker\"\n",
    "    )"
   ]
  },
  {
   "cell_type": "code",
   "execution_count": 4,
   "metadata": {},
   "outputs": [],
   "source": [
    "# import yaml\n",
    "\n",
    "# meta = dict(\n",
    "#     modality=\"time_series\",\n",
    "#     start_time=float(si.start_time),\n",
    "#     end_time=float(si.end_time),\n",
    "#     time_delta=float(si.time_delta),\n",
    "#     phase_shift_per_signal=False,\n",
    "# )\n",
    "\n",
    "# with open(\"/user/makhmet1/u14116/experanto_hackathon/experanto/examples/meta2.yml\", \"w\") as f:\n",
    "#     yaml.dump(meta, f)"
   ]
  },
  {
   "cell_type": "markdown",
   "metadata": {},
   "source": [
    "Load 1000 timestamps that should return the first 1000 samples and time it. "
   ]
  },
  {
   "cell_type": "code",
   "execution_count": 5,
   "metadata": {},
   "outputs": [
    {
     "name": "stdout",
     "output_type": "stream",
     "text": [
      "21.5 μs ± 73 ns per loop (mean ± std. dev. of 7 runs, 10,000 loops each)\n"
     ]
    }
   ],
   "source": [
    "n = 1000\n",
    "times = np.arange(\n",
    "    si.start_time + si.time_delta * 0.3,\n",
    "    n * si.time_delta + si.start_time,\n",
    "    si.time_delta,\n",
    ")\n",
    "%timeit signal, valid = si.interpolate(times)"
   ]
  },
  {
   "cell_type": "markdown",
   "metadata": {},
   "source": [
    "Make sure the correct samples are returned"
   ]
  },
  {
   "cell_type": "code",
   "execution_count": 6,
   "metadata": {},
   "outputs": [
    {
     "data": {
      "text/plain": [
       "np.int64(184)"
      ]
     },
     "execution_count": 6,
     "metadata": {},
     "output_type": "execute_result"
    }
   ],
   "source": [
    "# get the idx of first non-NaN value\n",
    "idx = np.where(~np.isnan(si._data))[0][0] \n",
    "idx"
   ]
  },
  {
   "cell_type": "code",
   "execution_count": 7,
   "metadata": {},
   "outputs": [],
   "source": [
    "correct_start = si.time_delta * (idx+1) + si.start_time\n",
    "\n",
    "n = 100\n",
    "times = np.arange(\n",
    "    correct_start, #+ si.time_delta * 0.3,\n",
    "    n * si.time_delta + correct_start,\n",
    "    si.time_delta,\n",
    ")\n",
    "\n",
    "signal, valid = si.interpolate(times)\n",
    "\n",
    "assert np.nanmin(np.abs(si._data[idx+1:idx+n+1] - signal)) < 1e-6"
   ]
  },
  {
   "cell_type": "markdown",
   "metadata": {},
   "source": [
    "Make sure that it also returns the correct valid index and shape"
   ]
  },
  {
   "cell_type": "code",
   "execution_count": 8,
   "metadata": {},
   "outputs": [
    {
     "data": {
      "text/plain": [
       "(array([ 1,  2,  3,  4,  5,  6,  7,  8,  9, 10]), (10,), (10, 4))"
      ]
     },
     "execution_count": 8,
     "metadata": {},
     "output_type": "execute_result"
    }
   ],
   "source": [
    "n = 10\n",
    "times = np.arange(\n",
    "    si.start_time - si.time_delta * 0.7,\n",
    "    n * si.time_delta + si.start_time,\n",
    "    si.time_delta,\n",
    ")\n",
    "signal, valid = si.interpolate(times)\n",
    "valid, valid.shape, signal.shape"
   ]
  },
  {
   "cell_type": "markdown",
   "metadata": {},
   "source": [
    "# Check interpolator for neuron sequences"
   ]
  },
  {
   "cell_type": "code",
   "execution_count": null,
   "metadata": {},
   "outputs": [],
   "source": [
    "neural_responses = PhaseShiftedSequenceInterpolator(\n",
    "    \"data/test_upsampling_without_hamming_30.0Hz/dynamic27204-5-13-Video-021a75e56847d574b9acbcc06c675055_30hz/responses\"\n",
    ")"
   ]
  },
  {
   "cell_type": "code",
   "execution_count": 10,
   "metadata": {},
   "outputs": [
    {
     "data": {
      "text/plain": [
       "((224314, 7538), (7538,))"
      ]
     },
     "execution_count": 10,
     "metadata": {},
     "output_type": "execute_result"
    }
   ],
   "source": [
    "neural_responses._data.shape, neural_responses._phase_shifts.shape"
   ]
  },
  {
   "cell_type": "code",
   "execution_count": 11,
   "metadata": {},
   "outputs": [
    {
     "data": {
      "text/plain": [
       "(array([4, 5, 6, 7, 8, 9]), (6,), (6, 7538))"
      ]
     },
     "execution_count": 11,
     "metadata": {},
     "output_type": "execute_result"
    }
   ],
   "source": [
    "n = 10\n",
    "times = np.arange(\n",
    "    neural_responses.start_time + neural_responses.time_delta * 0.0,\n",
    "    n * neural_responses.time_delta + neural_responses.start_time,\n",
    "    neural_responses.time_delta,\n",
    ")\n",
    "signal, valid = neural_responses.interpolate(times)\n",
    "valid, valid.shape, signal.shape"
   ]
  },
  {
   "cell_type": "code",
   "execution_count": 12,
   "metadata": {},
   "outputs": [
    {
     "data": {
      "text/plain": [
       "np.float64(0.114)"
      ]
     },
     "execution_count": 12,
     "metadata": {},
     "output_type": "execute_result"
    }
   ],
   "source": [
    "np.max(neural_responses._phase_shifts)"
   ]
  }
 ],
 "metadata": {
  "kernelspec": {
   "display_name": "Python 3 (ipykernel)",
   "language": "python",
   "name": "python3"
  },
  "language_info": {
   "codemirror_mode": {
    "name": "ipython",
    "version": 3
   },
   "file_extension": ".py",
   "mimetype": "text/x-python",
   "name": "python",
   "nbconvert_exporter": "python",
   "pygments_lexer": "ipython3",
   "version": "3.12.8"
  }
 },
 "nbformat": 4,
 "nbformat_minor": 2
}
